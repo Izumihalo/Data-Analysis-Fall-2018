{
 "cells": [
  {
   "cell_type": "markdown",
   "metadata": {},
   "source": [
    "# Multidimensional data in pandas\n",
    "We have covered some pandas basics and learned how to plot. Now let's sort out how to deal with more complex data. We will often find ourselves with data in which the unit of observation is complex. Pandas helps us deal with this by allowing for many index variables. So far, we have only used single indexing, but that is about to change. \n",
    "\n",
    "Some examples that could use a multiIndex\n",
    "1. State and country\n",
    "2. Team and player\n",
    "3. Industry and firm\n",
    "4. Country (or person, firm,...) and time\n",
    "\n",
    "That last one is important, and one that shows up a lot in economics. We call is *panel data*. Panel data is sometimes called longitudinal data. It follows the same firm/person/country over time. "
   ]
  },
  {
   "cell_type": "code",
   "execution_count": null,
   "metadata": {},
   "outputs": [],
   "source": [
    "import pandas as pd                 # load pandas and shorten it to pd\n",
    "import datetime as dt               # load datetime and shorten it to dt\n",
    "import matplotlib.pyplot as plt     # for making figures"
   ]
  },
  {
   "cell_type": "code",
   "execution_count": null,
   "metadata": {},
   "outputs": [],
   "source": [
    "soccer = {'team' : ['Man City', 'Man City', 'Man City', 'Man City', 'Chelsea', 'Chelsea'], \n",
    "          'player' : ['Walker', 'Stones', 'Foden', 'Jesus', 'Cahill', 'Pedro'],\n",
    "          'pos' : ['D', 'D', 'M', 'F', 'D', 'F'],\n",
    "          'goals' : [1, 0, 0, 1, 0, 3],\n",
    "          'assists': [0,0,0,0,0,0]\n",
    "         }\n",
    "\n",
    "prem = pd.DataFrame(soccer)\n",
    "prem"
   ]
  },
  {
   "cell_type": "markdown",
   "metadata": {},
   "source": [
    "### Multiple indexing\n",
    "The key to working with more complex datasets is getting the index right. So far, we have considered a single index, but pandas allows for multiple indexes that nest each other. \n",
    "\n",
    "**Key concept:** Hierarchical indexing takes multiple *levels* of indexes. \n",
    "\n",
    "Let's set up the DataFrame to take team and position as the indexes. "
   ]
  },
  {
   "cell_type": "code",
   "execution_count": null,
   "metadata": {},
   "outputs": [],
   "source": [
    "prem.set_index(['team', 'pos'], inplace=True)\n",
    "prem"
   ]
  },
  {
   "cell_type": "markdown",
   "metadata": {},
   "source": [
    "Wow. \n",
    "\n",
    "Notice that the `set_index()` method is the same one we used early with single indexes. In this case, we passed it a list of variables to make the indexes\n",
    "```python\n",
    "prem.set_index(['team', 'pos'], inplace=True)\n",
    "```\n",
    "\n",
    "In the output, the highest level of the index is team (we passed it 'team' first in the list) and the second level is position. The output does not repeat the team name for each observation. The 'missing' team name just mean that the team is the same as above. \\[A very Tufte-esque removal of unnecessary ink.\\] \n",
    "\n",
    "Let's take a look under the hood. What's our index? A new kind of object: the MultiIndex"
   ]
  },
  {
   "cell_type": "code",
   "execution_count": null,
   "metadata": {},
   "outputs": [],
   "source": [
    "print(prem.index)"
   ]
  },
  {
   "cell_type": "markdown",
   "metadata": {},
   "source": [
    "### Subsetting with multiple indexes\n",
    "With a multi index, we need two arguments to reference observations"
   ]
  },
  {
   "cell_type": "code",
   "execution_count": null,
   "metadata": {},
   "outputs": [],
   "source": [
    "# All the defenders on Man City\n",
    "prem.loc[('Man City', 'D'),:] "
   ]
  },
  {
   "cell_type": "markdown",
   "metadata": {},
   "source": [
    "It's always a good idea to pay attention to warnings, particularly 'PerformanceWarning'. Pandas is telling us that we are asking for something in the second index, but the second index is not ordered. Let's fix that with `sort_index()`.\n",
    "\n",
    "**Important** Sort your mulitIndex. "
   ]
  },
  {
   "cell_type": "code",
   "execution_count": null,
   "metadata": {},
   "outputs": [],
   "source": [
    "prem = prem.sort_index(axis=0)   # tell pandas which axis to sort. Could sort the columns, too...\n",
    "                                 # returns a DataFrame unless we use inplace=True\n",
    "prem"
   ]
  },
  {
   "cell_type": "code",
   "execution_count": null,
   "metadata": {},
   "outputs": [],
   "source": [
    "# Now let's ask for all the defenders on Man City\n",
    "prem.loc[('Man City', 'D'), :]"
   ]
  },
  {
   "cell_type": "markdown",
   "metadata": {},
   "source": [
    "No warnings. \n",
    "\n",
    "### Partial indexing\n",
    "With the indexes set, we can easily subset the data using only one of the indexes. In pandas, this is called *partial indexing* because we are only using part of the index to subset identify the data we want. \n",
    "\n",
    "We can use `loc[]` like we do with a single index if we want to index on the top level index."
   ]
  },
  {
   "cell_type": "code",
   "execution_count": null,
   "metadata": {},
   "outputs": [],
   "source": [
    "print(prem.loc['Chelsea'])               # All the 'Chelsea' observations\n",
    "print('\\n')\n",
    "print(prem.loc['Man City'])              # All the 'Man City' observations"
   ]
  },
  {
   "cell_type": "markdown",
   "metadata": {},
   "source": [
    "#### The xs() method\n",
    "We can also use the `xs()` method. Here we specify which level we are looking into. Note that I can reference the levels either by an integer or by its name."
   ]
  },
  {
   "cell_type": "code",
   "execution_count": null,
   "metadata": {},
   "outputs": [],
   "source": [
    "print(prem.xs('Chelsea', level = 0) )              # All the 'Chelsea' observations\n",
    "print('\\n')\n",
    "print(prem.xs('Man City', level = 'team'))              # All the 'Man City' observations"
   ]
  },
  {
   "cell_type": "markdown",
   "metadata": {},
   "source": [
    "We can partially index on the 'inner index' as well. Suppose we want all the defenders, regardless of team."
   ]
  },
  {
   "cell_type": "code",
   "execution_count": null,
   "metadata": {},
   "outputs": [],
   "source": [
    "prem.xs('D', level=1)"
   ]
  },
  {
   "cell_type": "markdown",
   "metadata": {},
   "source": [
    "As before, we can get rid of the index and replace it with a generic list of integers..."
   ]
  },
  {
   "cell_type": "code",
   "execution_count": null,
   "metadata": {},
   "outputs": [],
   "source": [
    "prem.reset_index(inplace=True)    # this moves the indexes back to columns\n",
    "prem"
   ]
  },
  {
   "cell_type": "markdown",
   "metadata": {},
   "source": [
    "...and reset it with three levels of indexes!"
   ]
  },
  {
   "cell_type": "code",
   "execution_count": null,
   "metadata": {},
   "outputs": [],
   "source": [
    "prem.set_index(['team', 'player', 'pos'], inplace=True)\n",
    "prem"
   ]
  },
  {
   "cell_type": "markdown",
   "metadata": {},
   "source": [
    "#### A multiIndex in columns\n",
    "There is nothing that says you can't have multiple indexes in the axis=1 dimension. Here is quick way to see this: transpose the DataFrame."
   ]
  },
  {
   "cell_type": "code",
   "execution_count": null,
   "metadata": {},
   "outputs": [],
   "source": [
    "prem = prem.transpose()           #this swaps the rows for columns\n",
    "print(prem)"
   ]
  },
  {
   "cell_type": "markdown",
   "metadata": {},
   "source": [
    "Now the rows are named 'goals' and 'assists' and the columns are (team, player, pos). I'm not sure this is a very useful way to look at this particular dataset, but multiIndex columns can come in handy. Let's change it back."
   ]
  },
  {
   "cell_type": "code",
   "execution_count": null,
   "metadata": {},
   "outputs": [],
   "source": [
    "prem = prem.transpose()\n",
    "print(prem)"
   ]
  },
  {
   "cell_type": "markdown",
   "metadata": {},
   "source": [
    "### Summary statistics by level\n",
    "MultiIndexes provide a quick way to summarize data. We will see many different ways to do this --- getting statistics by group --- and not all will involve a multiIndex. "
   ]
  },
  {
   "cell_type": "code",
   "execution_count": null,
   "metadata": {},
   "outputs": [],
   "source": [
    "# When subsetting by the upppermost level, I can use xs or loc\n",
    "print('Chelsea avg. goals', prem.xs('Chelsea', level='team')['goals'].mean())   # average goals for Chelsea players\n",
    "print('Chelsea avg. goals', prem.loc['Chelsea','goals'].mean())   # average goals for Chelsea players\n",
    "\n",
    "# When subsetting on the inner levels, I use xs \n",
    "print('Defender avg. goals {0:.2f}.'.format( prem.xs('D', level='pos')['goals'].mean() ) )          # average goals for defenders"
   ]
  },
  {
   "cell_type": "markdown",
   "metadata": {},
   "source": [
    "Notice the syntax with xs.\n",
    "```python\n",
    " prem.xs('Chelsea', level='team')['goals']\n",
    "```\n",
    "\n",
    "The `prem.xs('Chelsea', level='team')` is returning a DataFrame with all the columns. \n",
    "\n",
    "We then use the usual square-bracket syntax to pick off just the column 'goals' and then hit with `mean()`\n"
   ]
  },
  {
   "cell_type": "markdown",
   "metadata": {},
   "source": [
    "### Saving multiIndex DataFrames\n",
    "Saving a multiIndexed DataFrame works like before. Pandas fills in all the repeated labels to the output is ready to go. Run the following code and then open the csv files."
   ]
  },
  {
   "cell_type": "code",
   "execution_count": null,
   "metadata": {},
   "outputs": [],
   "source": [
    "# Multiple indexes on rows\n",
    "prem.to_csv('prem.csv')\n",
    "\n",
    "# Multiple indexes on columns\n",
    "prem = prem.transpose()\n",
    "prem.to_csv('prem_transposed.csv')"
   ]
  },
  {
   "cell_type": "markdown",
   "metadata": {},
   "source": [
    "## Practice\n",
    "\n",
    "Let's redo question \\#3 on the exam using multiIndexes.  \n",
    "\n",
    "1. Load the march cps data, 'CPS_March_2016.csv'. Remember, missing values are '.'"
   ]
  },
  {
   "cell_type": "code",
   "execution_count": null,
   "metadata": {},
   "outputs": [],
   "source": []
  },
  {
   "cell_type": "markdown",
   "metadata": {},
   "source": [
    "2. Keep only those with `fulltimely == 1`\n",
    "3. Keep only those with `5< =hrwage <=200`"
   ]
  },
  {
   "cell_type": "code",
   "execution_count": null,
   "metadata": {},
   "outputs": [],
   "source": []
  },
  {
   "cell_type": "markdown",
   "metadata": {},
   "source": [
    "4. Rename 'female' to 'sex'\n",
    "5. In column 'sex' replace 0 with 'male' and 1 with 'female'"
   ]
  },
  {
   "cell_type": "code",
   "execution_count": null,
   "metadata": {},
   "outputs": [],
   "source": []
  },
  {
   "cell_type": "markdown",
   "metadata": {},
   "source": [
    "6. Set the index to 'sex' and 'educ', in that order.\n",
    "7. Sort the index. "
   ]
  },
  {
   "cell_type": "code",
   "execution_count": null,
   "metadata": {},
   "outputs": [],
   "source": []
  },
  {
   "cell_type": "markdown",
   "metadata": {},
   "source": [
    "8. Report the average wage for males and females. Try it with the `loc[]` method. "
   ]
  },
  {
   "cell_type": "code",
   "execution_count": null,
   "metadata": {},
   "outputs": [],
   "source": []
  },
  {
   "cell_type": "markdown",
   "metadata": {},
   "source": [
    "9. Report the average wage for `HS diploma/GED` and for `College degree`, regardless of sex. Use the `xs()` method.  "
   ]
  },
  {
   "cell_type": "code",
   "execution_count": null,
   "metadata": {},
   "outputs": [],
   "source": []
  },
  {
   "cell_type": "markdown",
   "metadata": {},
   "source": [
    "## Panel data"
   ]
  },
  {
   "cell_type": "code",
   "execution_count": null,
   "metadata": {},
   "outputs": [],
   "source": [
    "# load a data file with the number of walks and snacks my dogs have had \n",
    "dogs = pd.read_csv('dogs.csv')         # data on the habits of my dogs\n",
    "dogs\n"
   ]
  },
  {
   "cell_type": "markdown",
   "metadata": {},
   "source": [
    "This data format is called **long** because there are lots of rows and not many columns. Moving between long and **wide** (lots of columns, fewer rows) is a common task in setting up panel data sets. \n",
    "\n",
    "Pandas calls long data **stacked** and wide data **unstacked**. We use the `stack()` and `unstack()` methods for moving between long and wide with multiIndexed data. Stack and unstack do not work in place. They always return a copy, so we need to assign it to variables."
   ]
  },
  {
   "cell_type": "code",
   "execution_count": null,
   "metadata": {},
   "outputs": [],
   "source": [
    "# move everything but the data values to the index\n",
    "dogs = dogs.set_index(['dog', 'time', 'var'], inplace=False)\n",
    "dogs"
   ]
  },
  {
   "cell_type": "markdown",
   "metadata": {},
   "source": [
    "We **unstack the data** to put the variables into columns. "
   ]
  },
  {
   "cell_type": "code",
   "execution_count": null,
   "metadata": {},
   "outputs": [],
   "source": [
    "dogs_us = dogs.unstack('var')\n",
    "dogs_us\n"
   ]
  },
  {
   "cell_type": "markdown",
   "metadata": {},
   "source": [
    "We can unstack several variables. As usual, we pass a list. "
   ]
  },
  {
   "cell_type": "code",
   "execution_count": null,
   "metadata": {},
   "outputs": [],
   "source": [
    "dogs_us = dogs.unstack(['dog', 'var'])\n",
    "dogs_us"
   ]
  },
  {
   "cell_type": "markdown",
   "metadata": {},
   "source": [
    "We now have an unstacked DataFrame and each column is a time series of one dog's observations. \n",
    "\n",
    "Notice that we do not have observations for Thursday's walks, so panda filled in NaNs for us. "
   ]
  },
  {
   "cell_type": "markdown",
   "metadata": {},
   "source": [
    "We can **stack the data** to put the variables back on the rows. \n",
    "\n",
    "When we unstack the data, pandas defaults to dropping the NaNs. We can override this if we choose. If we do not pass an argument, it stacks the innermost index. "
   ]
  },
  {
   "cell_type": "code",
   "execution_count": null,
   "metadata": {},
   "outputs": [],
   "source": [
    "dogs_s = dogs_us.stack()       # stack shifts the columns to rows. \n",
    "dogs_s"
   ]
  },
  {
   "cell_type": "code",
   "execution_count": null,
   "metadata": {},
   "outputs": [],
   "source": [
    "dogs_s = dogs_us.stack(['dog', 'var'], dropna=False)\n",
    "dogs_s"
   ]
  },
  {
   "cell_type": "code",
   "execution_count": null,
   "metadata": {},
   "outputs": [],
   "source": [
    "dogs_s=dogs_s.swaplevel('dog', 'time')\n",
    "dogs_s"
   ]
  },
  {
   "cell_type": "code",
   "execution_count": null,
   "metadata": {},
   "outputs": [],
   "source": [
    "dogs_s=dogs_s.swaplevel('var', 'time')\n",
    "dogs_s"
   ]
  },
  {
   "cell_type": "code",
   "execution_count": null,
   "metadata": {},
   "outputs": [],
   "source": [
    "dogs_s.sort_index(inplace=True)\n",
    "dogs_s"
   ]
  },
  {
   "cell_type": "markdown",
   "metadata": {},
   "source": [
    "## Practice\n",
    "\n",
    "Let's review multiIndexing with some real world data. The data is messy and will require some cleaning up and 'wrangling.' We will do some of it together, then I'll  hand it off for you all to finish. \n",
    "\n",
    "We will work with the IMF's [World Economic Outlook](https://www.imf.org/external/pubs/ft/weo/2017/02/weodata/download.aspx), which contains historical data and the IMF's forecasts for many countries and variables. \n",
    "\n",
    "Our **goal** is to study the evolution of debt in Germany, Argentina, and Greece. \n",
    "\n",
    "First, download the data file and open it in Excel. The file is here [http://www.imf.org/external/pubs/ft/weo/2016/02/weodata/WEOOct2016all.xls](http://www.imf.org/external/pubs/ft/weo/2016/02/weodata/WEOOct2016all.xls). Clicking on the link should initiate a download.\n",
    "\n",
    "Wow, there is a lot going on here. Let's get to work."
   ]
  },
  {
   "cell_type": "code",
   "execution_count": null,
   "metadata": {},
   "outputs": [],
   "source": [
    "url = 'http://www.imf.org/external/pubs/ft/weo/2016/02/weodata/WEOOct2016all.xls'\n",
    "\n",
    "# The data are in a tab-separated list (even though the file ends in 'xls'. not cool, IMF)\n",
    "# The encoding parameter tells pandas how to read special characters\n",
    "# The thousands parameter tells pandas to remove the comma when reading in numbers\n",
    "weo = pd.read_csv(url, sep='\\t', na_values=['n/a', '--'], thousands =',', encoding='windows-1252')\n",
    "weo.head()\n"
   ]
  },
  {
   "cell_type": "code",
   "execution_count": null,
   "metadata": {},
   "outputs": [],
   "source": [
    "weo.tail()"
   ]
  },
  {
   "cell_type": "markdown",
   "metadata": {},
   "source": [
    "The data file has a footer (go back and look in the file) and we read it in as a line of data. We could go back and specify the footer `skipfooter` parameter to read_csv(), but we can also just drop it."
   ]
  },
  {
   "cell_type": "code",
   "execution_count": null,
   "metadata": {},
   "outputs": [],
   "source": [
    "weo.drop(8404, inplace=True)   # Using the row number is not very robust. What if the IMF add more countries to the workbook?\n",
    "weo.tail()"
   ]
  },
  {
   "cell_type": "code",
   "execution_count": null,
   "metadata": {},
   "outputs": [],
   "source": [
    "weo.head()"
   ]
  },
  {
   "cell_type": "code",
   "execution_count": null,
   "metadata": {},
   "outputs": [],
   "source": [
    "weo.drop(['WEO Country Code', 'Subject Notes', 'Country/Series-specific Notes', 'Scale', 'Estimates Start After'],axis=1, inplace=True)\n",
    "weo.head()"
   ]
  },
  {
   "cell_type": "code",
   "execution_count": null,
   "metadata": {},
   "outputs": [],
   "source": [
    "variables = ['GGXWDG_NGDP', 'GGXCNL_NGDP']\n",
    "countries = ['ARG', 'DEU', 'GRC']\n",
    "\n",
    "weo = weo[ weo['WEO Subject Code'].isin(variables) & weo['ISO'].isin(countries) ]\n",
    "weo.head()"
   ]
  },
  {
   "cell_type": "markdown",
   "metadata": {},
   "source": [
    "### The isin() method\n",
    "Check out the way that I selected the rows of the dataFrame I wanted. I used the `isin()` method. You pass it a list of labels and it picks them out of the column. This is a lot cleaner than using a bunch of conditional statements.  \n",
    "\n",
    "I'm using it twice: once to specify the variables I want and once to specify the countries I want. I join the two together with an & operator.  "
   ]
  },
  {
   "cell_type": "markdown",
   "metadata": {},
   "source": [
    "### Your turn\n",
    "The data are in pretty decent shape. Take a few minutes and try the following. Feel free to chat with those around if you get stuck. The TA and I are here, too.\n",
    "\n",
    "1. Rename the 'WEO Subject Code' to 'Variable' and 'Subject Descriptor' to 'Description'.\n",
    "2. Replace 'GGXCNL_NGDP' with 'Surplus\n",
    "3. Replace 'GGXWDG_NGDP' with 'Debt'"
   ]
  },
  {
   "cell_type": "code",
   "execution_count": null,
   "metadata": {},
   "outputs": [],
   "source": []
  },
  {
   "cell_type": "code",
   "execution_count": null,
   "metadata": {},
   "outputs": [],
   "source": []
  },
  {
   "cell_type": "markdown",
   "metadata": {},
   "source": [
    "4. Set the (row) index to be 'ISO', 'Variable', 'Country', 'Description', and 'Units', in that order. "
   ]
  },
  {
   "cell_type": "code",
   "execution_count": null,
   "metadata": {},
   "outputs": [],
   "source": []
  },
  {
   "cell_type": "markdown",
   "metadata": {},
   "source": [
    "5. We want the row to be time and everything else to be columns. Swap the columns for rows.\n",
    "6. Sort the row and column indexes."
   ]
  },
  {
   "cell_type": "code",
   "execution_count": null,
   "metadata": {},
   "outputs": [],
   "source": []
  },
  {
   "cell_type": "markdown",
   "metadata": {},
   "source": [
    "7. Plot debt levels for Argentina, Germany and Greece for all the years in the data. Add a legend. Make the figure look nice. Hint: The x-axis is time..."
   ]
  },
  {
   "cell_type": "code",
   "execution_count": null,
   "metadata": {},
   "outputs": [],
   "source": []
  },
  {
   "cell_type": "markdown",
   "metadata": {},
   "source": [
    "Wow, Greece has had an interesting run. Let's look at Greece more closely. \n",
    "8. Create a (2,1) grid of subplots. Plot Greece's surplus in the top axes and debt in the bottom axis. Make it look nice."
   ]
  },
  {
   "cell_type": "code",
   "execution_count": null,
   "metadata": {},
   "outputs": [],
   "source": []
  }
 ],
 "metadata": {
  "celltoolbar": "Attachments",
  "kernelspec": {
   "display_name": "Python 3",
   "language": "python",
   "name": "python3"
  },
  "language_info": {
   "codemirror_mode": {
    "name": "ipython",
    "version": 3
   },
   "file_extension": ".py",
   "mimetype": "text/x-python",
   "name": "python",
   "nbconvert_exporter": "python",
   "pygments_lexer": "ipython3",
   "version": "3.6.5"
  }
 },
 "nbformat": 4,
 "nbformat_minor": 2
}
