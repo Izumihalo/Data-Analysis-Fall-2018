{
 "cells": [
  {
   "cell_type": "markdown",
   "metadata": {},
   "source": [
    "# Machine learning II\n",
    "\n",
    "files needed = ('auto.csv')\n",
    "\n",
    "This book continues our foray into machine learning. Our goals here are modest. We would like to\n",
    "1. learn a bit about how machine learning is similar to, and different from, econometrics.  \n",
    "2. introduce the scikit-learn package which is chock full of 'machine learning' tools. \n",
    "3. work on some *validation* methods, which are an important part of the machine learning toolkit. \n",
    "\n",
    "In this notebook, we continue to discuss validation methods.\n",
    "\n",
    "This notebook is loosely based on Chapters 2 and 5 from *An Introduction to Statistical Learning* by James, Witten, Hastie, and Tibshirani. This is an easy to follow introduction that is light on the mathematics behind the methods."
   ]
  },
  {
   "cell_type": "markdown",
   "metadata": {},
   "source": [
    "### Cross validation\n",
    "\n",
    "In the last workbook, we studied *set validation*. \n",
    "\n",
    "1. We break our dataset up into two subsets. Call one the *training set* and the other the *testing set*. \n",
    "2. We estimate our model on the training data. We measure how well our model fits the data by looking at the mean squared error of the regression or, alternatively, the r-squared, which normalizes the mse by the total squared error. We call these the **training mse or the training $r^2$**. This is usually what we care about when we are doing inference. \n",
    "3. Using the X data in the testing data, we use the estimated $f(\\;)$ from step 2 to predict value for y\n",
    "$$\\hat{y} = \\hat{f}(X_{test}).$$\n",
    "4. We then compare the predicted ($\\hat{y}$) values with the actual ($y$) values in the training data. Again, we can use mse or r-squared to judge how well our predicted data matched the actual data. Call this the **test mse or test $r^2$**. This is what we usually care about when we are interested in prediction. "
   ]
  },
  {
   "cell_type": "markdown",
   "metadata": {},
   "source": [
    "In the last notebook we repeatedly performed set validation on a linear model. We found that the reported error measures varied considerably. This is because we were using a different 75% of the observations to estimate the model each time. As we changed the training data set, the estimates changed. \n",
    "\n",
    "A related drawback is that we are only using 75% of the observations to estimate the model each time. Typically, the more observations we use, the better our estimates will be, which will lead to better prediction.  "
   ]
  },
  {
   "cell_type": "markdown",
   "metadata": {},
   "source": [
    "### Leave one out cross-validation (loocv)\n",
    "\n",
    "Leave one out cross-validation (loocv) addresses the concerns with set validation. The loocv algorithm is \n",
    "\n",
    "For each observation in the data i = 0,...n\n",
    "1. The test data is observation i\n",
    "2. The training data is all the data **except** observation i\n",
    "3. Estimate the model on the training data\n",
    "4. Evaluate the model on the testing data, this generates a mean squared error associated with 'round' i\n",
    "\n",
    "The test mse is the average over the n mses computed:\n",
    "$$ CV_{(n)} = \\frac{1}{n}\\sum_{i=1}^nmse_{i}$$\n",
    "\n",
    "Notice that this is similar in spirit to what we were doing last class. The difference is that we are doing are repeating the estimate exactly n times and that the split into test and training sets is not random. "
   ]
  },
  {
   "cell_type": "markdown",
   "metadata": {},
   "source": [
    "Let's try it out. Rather than write code to implement the algorithm above, scikit will do it for us. \n",
    "\n",
    "First, load up the auto data again. "
   ]
  },
  {
   "cell_type": "code",
   "execution_count": 24,
   "metadata": {},
   "outputs": [],
   "source": [
    "import pandas as pd\n",
    "import numpy as np\n",
    "import matplotlib.pyplot as plt\n",
    "import seaborn as sns"
   ]
  },
  {
   "cell_type": "code",
   "execution_count": 36,
   "metadata": {},
   "outputs": [
    {
     "name": "stdout",
     "output_type": "stream",
     "text": [
      "<class 'pandas.core.frame.DataFrame'>\n",
      "Int64Index: 392 entries, 0 to 396\n",
      "Data columns (total 9 columns):\n",
      "mpg             392 non-null float64\n",
      "cylinders       392 non-null int64\n",
      "displacement    392 non-null float64\n",
      "horsepower      392 non-null float64\n",
      "weight          392 non-null int64\n",
      "acceleration    392 non-null float64\n",
      "year            392 non-null int64\n",
      "origin          392 non-null int64\n",
      "name            392 non-null object\n",
      "dtypes: float64(4), int64(4), object(1)\n",
      "memory usage: 30.6+ KB\n",
      "None\n"
     ]
    }
   ],
   "source": [
    "# There are a few missing values coded as '?'. \n",
    "auto = pd.read_csv('auto.csv', na_values='?')\n",
    "auto = auto.dropna()\n",
    "print(auto.info())"
   ]
  },
  {
   "cell_type": "markdown",
   "metadata": {},
   "source": [
    "We will need the `linear_model` package to run the regression and the `cross_val_score` function from scikit-learn."
   ]
  },
  {
   "cell_type": "code",
   "execution_count": 26,
   "metadata": {},
   "outputs": [],
   "source": [
    "# From scikit-learn import the cross_val_score function\n",
    "from sklearn.model_selection import cross_val_score\n",
    "\n",
    "# From scikit-learn, peel off the linear_model package\n",
    "from sklearn import linear_model "
   ]
  },
  {
   "cell_type": "markdown",
   "metadata": {},
   "source": [
    "The `cross_val_score()` function [(docs)](https://scikit-learn.org/stable/modules/generated/sklearn.model_selection.cross_val_score.html) takes as arguments an `estimator`, in our case ols, the `x data`, the `y data`, a `scoring` criterion, and the number of splits to make to the data, `cv`. \n",
    "\n",
    "Two comments:\n",
    "\n",
    "1. The r-squared is not a good metric of fit (score) in this case, because we are testing on a single observation. The r-squared will be zero always. Instead, we will use the mean squared error. In scikit learn, the **negative** of the mean squared error is returned. This is simply a convention: The package creators want all the scoring criterion to be increasing in fit. (e.g., a larger r-squared is better, a larger (closer to zero) negative mse is better).\n",
    "2. We set the `cv` parameter to the number of observations in the data. We want to split the data into $n$ chunks (each chunk with one observation) and leave one chunk out each iteration.  "
   ]
  },
  {
   "cell_type": "code",
   "execution_count": 28,
   "metadata": {},
   "outputs": [],
   "source": [
    "# estimator = LinearRegression, # X_data = auto[['horsepower', 'weight']], y_data = auto['mpg']\n",
    "\n",
    "scores = cross_val_score(linear_model.LinearRegression(), auto[['horsepower', 'weight']], auto['mpg'],\n",
    "                         scoring='neg_mean_squared_error', cv=len(auto['mpg']))"
   ]
  },
  {
   "cell_type": "markdown",
   "metadata": {},
   "source": [
    "That was easy! The `cross_val_score` function returns an array with the negative mse for each iteration. "
   ]
  },
  {
   "cell_type": "code",
   "execution_count": 35,
   "metadata": {},
   "outputs": [
    {
     "name": "stdout",
     "output_type": "stream",
     "text": [
      "Scores is of type: <class 'numpy.ndarray'>\n",
      "Length of scores: 392 \n",
      "\n",
      "[-1.42210654e+00 -2.11488314e+00 -4.11527317e-01 -7.16235232e+00\n",
      " -4.18061828e+00 -1.56649956e+01 -1.71390496e+01 -1.31819348e+01\n",
      " -2.32761854e+01 -4.49491803e-01 -3.94519794e+00 -1.02016404e+01\n",
      " -3.11151113e+00 -1.18573754e+01 -1.17006515e+01 -7.50240815e+00\n",
      " -4.89682578e+01 -3.19012109e+01 -4.62717627e+00 -4.74763924e+01\n",
      " -1.09433415e+00 -1.09974527e+01 -5.74941587e+00 -1.87773708e+00\n",
      " -2.55525193e+01 -1.70265018e+00 -7.08867837e-01 -4.93276739e-01\n",
      " -8.89779871e-03 -4.62717627e+00 -7.10078206e-02 -1.06321092e+01\n",
      " -4.45104002e+01 -2.27827242e+01 -2.15817773e+01 -1.13889871e+01\n",
      " -1.50332974e+01 -3.10653414e-01 -6.41007947e+00 -1.13209238e-01\n",
      " -6.68536037e-01 -1.32806106e+01 -8.64790199e+00 -3.06163295e+01\n",
      " -2.79784217e+01 -3.98145103e+01 -8.45188516e+00 -2.83307977e+01\n",
      " -3.29520610e+01 -1.18865339e+00 -9.83686330e-02 -6.51762947e-03\n",
      " -1.69791668e+00 -3.96927155e+00 -2.71756181e+01 -2.53412620e+01\n",
      " -1.57856400e+01 -2.08250084e+01 -5.01364862e+01 -5.56721296e+01\n",
      " -5.95344385e+01 -5.13603309e-03 -4.27794258e+00 -1.73975889e-01\n",
      " -2.32644961e-01 -7.31206057e-02 -4.36860242e+00 -6.17737367e-01\n",
      " -6.53468209e-02 -4.00179180e+00 -7.40466484e+01 -1.00016080e+00\n",
      " -7.68497727e+00 -1.32184759e+00 -8.61901210e-01 -2.87822192e+01\n",
      " -3.04518139e+01 -1.07539134e+01 -1.37721258e+01 -3.26882343e+01\n",
      " -9.91894976e-04 -1.25773335e+01 -1.75405575e+00 -5.41596077e+00\n",
      " -3.76291405e-01 -1.08254475e+01 -7.24048602e+00 -3.07037668e+00\n",
      " -2.79090921e+00 -2.02512688e+01 -1.05014376e-01 -1.31383933e-02\n",
      " -2.60673046e-05 -2.59539380e+01 -3.43451384e+01 -5.08883687e+00\n",
      " -2.11851852e+01 -3.53365614e+01 -3.43573509e+01 -3.60276750e+01\n",
      " -1.75297971e+00 -3.86748646e+01 -2.08606114e+00 -7.46189041e+00\n",
      " -5.74696375e+00 -9.10374468e-01 -4.58130486e+01 -6.91395806e+01\n",
      " -5.40955932e+01 -2.95552743e+01 -1.24566035e+02 -8.60463094e+01\n",
      " -2.80051585e+01 -5.16143689e+00 -1.70168935e-02 -3.99575666e+01\n",
      " -1.24791863e+01 -3.15470295e+01 -4.08982963e+01 -2.24815825e+01\n",
      " -1.50944755e+01 -1.06029344e+00 -1.31713623e+01 -2.49780907e+01\n",
      " -1.01489650e+01 -2.61560898e+01 -4.37714572e+01 -3.00720155e-02\n",
      " -2.75738539e+00 -5.34157096e-03 -5.63538731e+00 -9.26486105e+00\n",
      " -1.16680647e+01 -3.07375837e+00 -9.67673218e-01 -2.92374796e+00\n",
      " -1.67570478e+00 -3.57225612e+00 -1.48798787e-02 -2.07041880e-02\n",
      " -2.63063314e+01 -6.94341606e+00 -7.01844328e+00 -7.33063970e-01\n",
      " -3.20150783e+00 -3.49302971e+01 -9.56410762e+00 -6.97809898e+00\n",
      " -1.94248867e+00 -1.39470478e-02 -1.05824755e+01 -7.00355007e+00\n",
      " -5.62963491e+01 -8.20360370e+01 -3.04526965e+01 -3.87494665e+00\n",
      " -1.26763749e+01 -5.67375529e+00 -6.54377716e-01 -4.50984910e+00\n",
      " -1.48794464e+01 -1.52727720e+00 -3.36089806e+00 -3.16491965e+00\n",
      " -6.74823765e+01 -2.66155200e-01 -1.17994384e+01 -1.62910093e+01\n",
      " -1.55848646e+01 -2.09513622e+00 -1.95537565e+01 -5.35720434e+00\n",
      " -3.33987554e+01 -4.49375049e+00 -1.44616102e+01 -6.47316441e+00\n",
      " -1.82235096e+00 -3.78717777e+00 -7.70491617e-02 -7.25898219e-02\n",
      " -5.00014944e-01 -1.57202400e+01 -1.93277577e+00 -8.12342859e+00\n",
      " -3.86363134e+00 -8.59258063e+00 -3.04969948e+00 -2.31662780e+00\n",
      " -2.26574563e-01 -3.17426384e-02 -5.74188011e-01 -1.28957273e-01\n",
      " -1.02620681e+00 -5.79387410e+00 -3.36187229e+01 -4.49375049e+00\n",
      " -7.25898219e-02 -6.10979137e-02 -1.09633389e+01 -6.77299464e-01\n",
      " -2.67399807e+01 -4.95332064e+00 -1.46113145e+00 -2.60551352e+00\n",
      " -7.68690342e-01 -6.61544732e+00 -7.46868841e+00 -1.26721573e+01\n",
      " -2.08594689e+01 -1.79498318e+00 -2.31600047e+01 -5.29631668e+00\n",
      " -1.67438750e+01 -1.45277511e+01 -8.66163672e-01 -4.01734353e-01\n",
      " -1.37243011e+01 -5.23146342e+00 -6.03576754e+00 -1.45641045e+00\n",
      " -7.88609015e-03 -5.06749732e-01 -1.60331244e-01 -6.52781754e+00\n",
      " -1.08998810e-01 -7.85337642e-01 -4.40533142e+00 -1.13521080e+01\n",
      " -4.22107780e+00 -1.57756804e+01 -6.50276980e+00 -2.96963541e+00\n",
      " -1.22101397e+00 -8.89084743e+00 -1.07236594e-03 -7.72391171e-02\n",
      " -1.47050554e+01 -9.51453909e-01 -1.54926026e+00 -7.55464845e+00\n",
      " -1.51709208e+01 -1.01824883e+01 -1.28235088e+02 -1.63464397e+01\n",
      " -1.27506662e+00 -8.30802280e+01 -1.41042070e+01 -1.08876091e+00\n",
      " -4.13376308e+00 -3.34366981e+00 -9.95613708e-01 -5.64813061e+00\n",
      " -1.81574070e+01 -3.83592801e-01 -2.91113127e-01 -1.16007433e+01\n",
      " -2.41546535e-01 -9.30490023e+00 -7.53106051e-01 -4.46311665e+00\n",
      " -7.05004494e-02 -3.13689775e-02 -5.81898428e+00 -4.57050119e+00\n",
      " -3.98326618e-03 -1.41791916e+00 -2.79625172e-01 -3.01489259e+00\n",
      " -3.01964732e+01 -2.47673572e+00 -1.64448120e+00 -1.04577266e+01\n",
      " -1.66610695e+01 -2.07205339e+01 -5.84348702e+00 -1.15934954e+01\n",
      " -5.67509494e-01 -3.09083779e-01 -1.03927773e-02 -2.04192452e+01\n",
      " -5.96129184e+00 -5.20680686e+00 -1.36817370e-01 -5.88771482e-02\n",
      " -1.27146493e-01 -9.32306298e-02 -1.30695999e+00 -1.51390523e+01\n",
      " -4.45743649e-03 -1.31082920e-01 -7.84962252e+00 -6.04354374e-01\n",
      " -8.97755312e+00 -2.48253968e+01 -1.03720277e+00 -1.54813872e+01\n",
      " -3.49590768e+01 -1.19178309e+01 -5.55547419e+00 -2.15335774e+01\n",
      " -2.16385122e+01 -8.91467243e-01 -5.33297806e+01 -6.22376560e+00\n",
      " -1.34176075e+01 -5.09534515e+00 -4.82916298e+01 -1.42534339e+02\n",
      " -4.54753988e+01 -4.26532659e+00 -4.05773815e+01 -4.57981248e+00\n",
      " -2.42520744e+00 -1.01272972e-01 -7.38990776e+00 -2.55203646e+01\n",
      " -1.71152784e+01 -1.56274155e+01 -9.71277937e+01 -1.05329115e+01\n",
      " -2.67284278e+02 -1.19769425e+01 -1.10611445e+02 -1.72216973e+02\n",
      " -1.87866961e+02 -1.24350160e+02 -4.20032282e+01 -1.67536975e+02\n",
      " -1.42662784e+01 -4.98682139e+00 -1.05163448e+02 -1.02809549e+01\n",
      " -6.45629066e+01 -1.18991742e+01 -1.55653136e-03 -4.06024870e-02\n",
      " -9.52260752e-02 -1.32916440e+00 -4.66822522e+00 -4.12498590e+01\n",
      " -5.33145492e+01 -6.32771075e+00 -3.25434365e+00 -3.49765494e+01\n",
      " -4.77629306e+01 -1.02223200e+01 -2.40201567e+01 -1.37241857e+01\n",
      " -1.27888781e+00 -1.27188443e+01 -1.96530028e+01 -1.55233436e+01\n",
      " -5.13811818e+01 -2.25752415e+01 -2.51353657e+01 -4.96209715e+01\n",
      " -4.23642825e+00 -1.48511410e+00 -3.08861183e+00 -5.75636112e+01\n",
      " -1.27169080e+01 -1.59752244e+01 -2.62826796e+00 -6.74867470e-01\n",
      " -4.12850325e+01 -1.86138369e+01 -3.88103401e+00 -2.15610114e+00\n",
      " -4.76354799e-01 -2.88152617e+01 -4.02740833e+01 -8.43308560e-05\n",
      " -5.92182118e+01 -3.61737478e+01 -5.01887902e+01 -4.50910664e+01\n",
      " -2.20982473e+01 -4.84119458e+01 -8.46995262e-01 -5.08522070e+01\n",
      " -2.66206177e+00 -1.93967835e+02 -9.69907031e-02 -3.69854452e+00\n",
      " -4.04667075e+01 -6.55654593e+01 -7.39888922e+00 -2.55732870e+00\n",
      " -1.75889549e+02 -1.33015499e+01 -1.72008462e+00 -2.51800002e+01]\n"
     ]
    }
   ],
   "source": [
    "print('Scores is of type:', type(scores))\n",
    "print('Length of scores:', len(scores), '\\n')\n",
    "print(scores)"
   ]
  },
  {
   "cell_type": "markdown",
   "metadata": {},
   "source": [
    "To compute the test mean squared error, \n",
    "$$ CV_{(n)} = \\frac{1}{n}\\sum_{i=1}^nmse_{i}$$\n",
    "we just compute the mean of scores. I will multiply by -1, so that we have the mse."
   ]
  },
  {
   "cell_type": "code",
   "execution_count": 43,
   "metadata": {},
   "outputs": [
    {
     "name": "stdout",
     "output_type": "stream",
     "text": [
      "The test mse is 18.113\n"
     ]
    }
   ],
   "source": [
    "test_mse = scores.mean()\n",
    "print('The test mse is {0:5.3f}'.format(-test_mse))"
   ]
  },
  {
   "cell_type": "markdown",
   "metadata": {},
   "source": [
    "### k-fold cross-validation\n",
    "\n",
    "k-fold cross-validation is a generalization of loocv. An issue with loocv is that we need to estimate the model $n$ times, once for each observation. If there is a lot of data, or if the model is hard to estimate, this approach is may be computationally intensive. \n",
    "\n",
    "The solution to this is to break the data up into k sets (or folds) of length n/k, each set containing n/k randomly assigned observations. We then proceed as in loocv, but estimating the model only $i=1,...,k$ times and leaving out set $i$ as the test set. This [figure](http://www-bcf.usc.edu/~gareth/ISL/Chapter5/5.5.pdf) from James, et al. summarizes it nicely. \n",
    "\n",
    "In this procedure, the test mse is \n",
    "$$ CV_{(k)} = \\frac{1}{k}\\sum_{i=1}^k mse_{i}$$\n",
    "\n",
    "Clearly, loocv is just k-fold cv with $k=n$. \n",
    "\n",
    "How big is $k$? In practice, people tend to use 5 or 10. \n",
    "\n",
    "\\[There are additional reasons dealing with bias and variance to use $k<n$, but that discussion is outside the scope of this class.\\]"
   ]
  },
  {
   "cell_type": "code",
   "execution_count": 45,
   "metadata": {},
   "outputs": [],
   "source": [
    "# estimator = LinearRegression, # X_data = auto[['horsepower', 'weight']], y_data = auto['mpg']\n",
    "\n",
    "scores_10 = cross_val_score(linear_model.LinearRegression(), auto[['horsepower', 'weight']], auto['mpg'],\n",
    "                         scoring='neg_mean_squared_error', cv=10)"
   ]
  },
  {
   "cell_type": "code",
   "execution_count": 51,
   "metadata": {},
   "outputs": [
    {
     "name": "stdout",
     "output_type": "stream",
     "text": [
      "[-12.08976149 -18.98987088 -25.43307056 -13.78096989  -9.1564195\n",
      "  -6.60875451 -11.73671376 -16.18958302 -57.10638935 -35.20884108]\n",
      "\n",
      "The test mse is 20.630\n"
     ]
    }
   ],
   "source": [
    "print(scores_10)\n",
    "print('\\nThe test mse is {0:5.3f}'.format(-scores_10.mean()))"
   ]
  },
  {
   "cell_type": "markdown",
   "metadata": {},
   "source": [
    "## Practice\n",
    "\n",
    "Take a few minutes and try the following. Feel free to chat with those around if you get stuck. The TA and I are here, too."
   ]
  },
  {
   "cell_type": "markdown",
   "metadata": {},
   "source": [
    "We will use k-fold cross-validation to compare models with higher-degree polynomials in horsepower.\n",
    "\n",
    "$$\\begin{align}\n",
    "mpg &= \\beta_0 + \\beta_1 hp +\\epsilon\\\\\n",
    "mpg &= \\beta_0 + \\beta_1 hp + \\beta_2 hp^2 + \\epsilon\\\\\n",
    "mpg &= \\beta_0 + \\beta_1 hp + \\beta_2 hp^2 + \\beta_3 hp^3 + \\epsilon\\\\\n",
    "mpg &= \\beta_0 + \\beta_1 hp + \\beta_2 hp^2 + \\beta_3 hp^3 + \\beta_4 hp^4 + \\epsilon\\\\\n",
    "mpg &= \\beta_0 + \\beta_1 hp + \\beta_2 hp^2 + \\beta_3 hp^3 + \\beta_4 hp^4 + \\beta_5 hp^5 + \\epsilon\n",
    "\\end{align}$$"
   ]
  },
  {
   "cell_type": "markdown",
   "metadata": {},
   "source": [
    "1. Create columns named 'hp2' through 'hp5' that correspond to the powers of horsepower. I used a loop."
   ]
  },
  {
   "cell_type": "code",
   "execution_count": 82,
   "metadata": {},
   "outputs": [
    {
     "data": {
      "text/html": [
       "<div>\n",
       "<style scoped>\n",
       "    .dataframe tbody tr th:only-of-type {\n",
       "        vertical-align: middle;\n",
       "    }\n",
       "\n",
       "    .dataframe tbody tr th {\n",
       "        vertical-align: top;\n",
       "    }\n",
       "\n",
       "    .dataframe thead th {\n",
       "        text-align: right;\n",
       "    }\n",
       "</style>\n",
       "<table border=\"1\" class=\"dataframe\">\n",
       "  <thead>\n",
       "    <tr style=\"text-align: right;\">\n",
       "      <th></th>\n",
       "      <th>mpg</th>\n",
       "      <th>cylinders</th>\n",
       "      <th>displacement</th>\n",
       "      <th>horsepower</th>\n",
       "      <th>weight</th>\n",
       "      <th>acceleration</th>\n",
       "      <th>year</th>\n",
       "      <th>origin</th>\n",
       "      <th>name</th>\n",
       "      <th>hp1</th>\n",
       "      <th>hp2</th>\n",
       "      <th>hp3</th>\n",
       "      <th>hp4</th>\n",
       "      <th>hp5</th>\n",
       "    </tr>\n",
       "  </thead>\n",
       "  <tbody>\n",
       "    <tr>\n",
       "      <th>0</th>\n",
       "      <td>18.0</td>\n",
       "      <td>8</td>\n",
       "      <td>307.0</td>\n",
       "      <td>130.0</td>\n",
       "      <td>3504</td>\n",
       "      <td>12.0</td>\n",
       "      <td>70</td>\n",
       "      <td>1</td>\n",
       "      <td>chevrolet chevelle malibu</td>\n",
       "      <td>130.0</td>\n",
       "      <td>16900.0</td>\n",
       "      <td>2197000.0</td>\n",
       "      <td>285610000.0</td>\n",
       "      <td>3.712930e+10</td>\n",
       "    </tr>\n",
       "    <tr>\n",
       "      <th>1</th>\n",
       "      <td>15.0</td>\n",
       "      <td>8</td>\n",
       "      <td>350.0</td>\n",
       "      <td>165.0</td>\n",
       "      <td>3693</td>\n",
       "      <td>11.5</td>\n",
       "      <td>70</td>\n",
       "      <td>1</td>\n",
       "      <td>buick skylark 320</td>\n",
       "      <td>165.0</td>\n",
       "      <td>27225.0</td>\n",
       "      <td>4492125.0</td>\n",
       "      <td>741200625.0</td>\n",
       "      <td>1.222981e+11</td>\n",
       "    </tr>\n",
       "    <tr>\n",
       "      <th>2</th>\n",
       "      <td>18.0</td>\n",
       "      <td>8</td>\n",
       "      <td>318.0</td>\n",
       "      <td>150.0</td>\n",
       "      <td>3436</td>\n",
       "      <td>11.0</td>\n",
       "      <td>70</td>\n",
       "      <td>1</td>\n",
       "      <td>plymouth satellite</td>\n",
       "      <td>150.0</td>\n",
       "      <td>22500.0</td>\n",
       "      <td>3375000.0</td>\n",
       "      <td>506250000.0</td>\n",
       "      <td>7.593750e+10</td>\n",
       "    </tr>\n",
       "    <tr>\n",
       "      <th>3</th>\n",
       "      <td>16.0</td>\n",
       "      <td>8</td>\n",
       "      <td>304.0</td>\n",
       "      <td>150.0</td>\n",
       "      <td>3433</td>\n",
       "      <td>12.0</td>\n",
       "      <td>70</td>\n",
       "      <td>1</td>\n",
       "      <td>amc rebel sst</td>\n",
       "      <td>150.0</td>\n",
       "      <td>22500.0</td>\n",
       "      <td>3375000.0</td>\n",
       "      <td>506250000.0</td>\n",
       "      <td>7.593750e+10</td>\n",
       "    </tr>\n",
       "    <tr>\n",
       "      <th>4</th>\n",
       "      <td>17.0</td>\n",
       "      <td>8</td>\n",
       "      <td>302.0</td>\n",
       "      <td>140.0</td>\n",
       "      <td>3449</td>\n",
       "      <td>10.5</td>\n",
       "      <td>70</td>\n",
       "      <td>1</td>\n",
       "      <td>ford torino</td>\n",
       "      <td>140.0</td>\n",
       "      <td>19600.0</td>\n",
       "      <td>2744000.0</td>\n",
       "      <td>384160000.0</td>\n",
       "      <td>5.378240e+10</td>\n",
       "    </tr>\n",
       "  </tbody>\n",
       "</table>\n",
       "</div>"
      ],
      "text/plain": [
       "    mpg  cylinders  displacement  horsepower  weight  acceleration  year  \\\n",
       "0  18.0          8         307.0       130.0    3504          12.0    70   \n",
       "1  15.0          8         350.0       165.0    3693          11.5    70   \n",
       "2  18.0          8         318.0       150.0    3436          11.0    70   \n",
       "3  16.0          8         304.0       150.0    3433          12.0    70   \n",
       "4  17.0          8         302.0       140.0    3449          10.5    70   \n",
       "\n",
       "   origin                       name    hp1      hp2        hp3          hp4  \\\n",
       "0       1  chevrolet chevelle malibu  130.0  16900.0  2197000.0  285610000.0   \n",
       "1       1          buick skylark 320  165.0  27225.0  4492125.0  741200625.0   \n",
       "2       1         plymouth satellite  150.0  22500.0  3375000.0  506250000.0   \n",
       "3       1              amc rebel sst  150.0  22500.0  3375000.0  506250000.0   \n",
       "4       1                ford torino  140.0  19600.0  2744000.0  384160000.0   \n",
       "\n",
       "            hp5  \n",
       "0  3.712930e+10  \n",
       "1  1.222981e+11  \n",
       "2  7.593750e+10  \n",
       "3  7.593750e+10  \n",
       "4  5.378240e+10  "
      ]
     },
     "execution_count": 82,
     "metadata": {},
     "output_type": "execute_result"
    }
   ],
   "source": [
    "for i in range(2,6):\n",
    "    auto['hp' + str(i)] = auto['horsepower']**i\n",
    "    \n",
    "auto.head()"
   ]
  },
  {
   "cell_type": "markdown",
   "metadata": {},
   "source": [
    "2. Compute the k-fold validation mse with k=10\n",
    "$$ CV_{(k)} = \\frac{1}{k}\\sum_{i=1}^k mse_{i}$$\n",
    "for each of the models. Save the mse for each model in a list.  \n",
    "\n",
    "\\[I did this by hand (rather than in a loop), which I'm kind of ashamed of. I need to think harder about a way to automate this. If you finish early, try automating this. For sure, we could use patsy to simplify this step...\\]"
   ]
  },
  {
   "cell_type": "code",
   "execution_count": 83,
   "metadata": {},
   "outputs": [
    {
     "name": "stdout",
     "output_type": "stream",
     "text": [
      "[27.439933652339867, 21.235840055802235, 21.336606183228003, 21.353886981505607, 20.90564058203579]\n"
     ]
    }
   ],
   "source": [
    "test_mse = [] \n",
    "test_mse.append(cross_val_score(linear_model.LinearRegression(), auto[['horsepower']], auto['mpg'],\n",
    "                         scoring='neg_mean_squared_error', cv=10).mean() )\n",
    "\n",
    "test_mse.append(cross_val_score(linear_model.LinearRegression(), auto[['horsepower', 'hp2']], auto['mpg'],\n",
    "                         scoring='neg_mean_squared_error', cv=10).mean() )\n",
    "\n",
    "test_mse.append(cross_val_score(linear_model.LinearRegression(), auto[['horsepower', 'hp2', 'hp3']], auto['mpg'],\n",
    "                         scoring='neg_mean_squared_error', cv=10).mean() )\n",
    "\n",
    "test_mse.append(cross_val_score(linear_model.LinearRegression(), auto[['horsepower', 'hp2', 'hp3', 'hp4']], auto['mpg'],\n",
    "                         scoring='neg_mean_squared_error', cv=10).mean() )\n",
    "\n",
    "test_mse.append(cross_val_score(linear_model.LinearRegression(), auto[['horsepower', 'hp2', 'hp3', 'hp4', 'hp5']], auto['mpg'],\n",
    "                         scoring='neg_mean_squared_error', cv=10).mean() )\n",
    "\n",
    "# The score function reports negative mse, convert to positive\n",
    "test_mse = [-1*i for i in test_mse]\n",
    "print(test_mse)"
   ]
  },
  {
   "cell_type": "markdown",
   "metadata": {},
   "source": [
    "3. Plot the mse (not the negative mse) from each model on the y-axis of a scatter plot, with \\[1, 2, 3, 4, 5\\] on the x-axis. Which degree of polynomial would you include in your model?   "
   ]
  },
  {
   "cell_type": "code",
   "execution_count": 92,
   "metadata": {},
   "outputs": [
    {
     "data": {
      "text/plain": [
       "(18, 28)"
      ]
     },
     "execution_count": 92,
     "metadata": {},
     "output_type": "execute_result"
    },
    {
     "data": {
      "image/png": "[encoded data removed]",
      "text/plain": [
       "<Figure size 1080x432 with 1 Axes>"
      ]
     },
     "metadata": {},
     "output_type": "display_data"
    }
   ],
   "source": [
    "fig, ax = plt.subplots(figsize=(15,6))\n",
    "\n",
    "ax.scatter([1,2,3,4, 5], test_mse, color='black')\n",
    "sns.despine(ax=ax)\n",
    "\n",
    "# Only have ticks on the integers\n",
    "ax.set_xticks([1,2,3,4,5])\n",
    "\n",
    "ax.set_title('MSE for models with different powers of horsepower')\n",
    "ax.set_xlabel('degree  polynomial of horsepower')\n",
    "ax.set_ylabel('mean squared error')\n",
    "\n",
    "ax.set_ylim(18,28)"
   ]
  },
  {
   "cell_type": "code",
   "execution_count": null,
   "metadata": {},
   "outputs": [],
   "source": []
  }
 ],
 "metadata": {
  "celltoolbar": "Attachments",
  "kernelspec": {
   "display_name": "Python 3",
   "language": "python",
   "name": "python3"
  },
  "language_info": {
   "codemirror_mode": {
    "name": "ipython",
    "version": 3
   },
   "file_extension": ".py",
   "mimetype": "text/x-python",
   "name": "python",
   "nbconvert_exporter": "python",
   "pygments_lexer": "ipython3",
   "version": "3.6.5"
  }
 },
 "nbformat": 4,
 "nbformat_minor": 2
}
