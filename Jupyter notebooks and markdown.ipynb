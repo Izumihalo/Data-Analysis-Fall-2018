{
 "cells": [
  {
   "cell_type": "markdown",
   "metadata": {},
   "source": [
    "## Working with Python in Jupyter notebooks\n",
    "\n",
    "Our goal for this notebook is to learn about, and how to use, Jupyter notebooks:\n",
    "1. What is a Jupyter notebook?\n",
    "2. How do I open, save, and edit?\n",
    "3. What are markdown cells vs code cells?\n",
    "4. What is markdown? \n",
    "\n",
    "Reading \n",
    "1. McKinney Chapter 2\n",
    "___"
   ]
  },
  {
   "cell_type": "markdown",
   "metadata": {},
   "source": [
    "## What is a Jupyter notebook?\n",
    "There are many ways to write and run Python code. A very simple way is to write your code in a text file, save it, and run the file through an interpretor. This method separates the code from the output.\n",
    "\n",
    "We will take advantage of Jupyter notebooks. A notebook combines input (code) with output (results). It also allows us to mix in text, which will let us provide lots of documentation about our code is doing. The text is added in *markdown* which gives us even more options. We will discuss markdown a bit later. \n",
    "\n",
    "A notebook runs a command window (look at your taskbar) that we do not need to bother with and a document displayed in a web browser. You are looking at the notebook right now! \n",
    "\n"
   ]
  },
  {
   "cell_type": "code",
   "execution_count": null,
   "metadata": {},
   "outputs": [],
   "source": []
  },
  {
   "cell_type": "markdown",
   "metadata": {},
   "source": [
    "## Markdown \n",
    "\n",
    "Markdown is a simple \"markup\" language. The point of markdown is to provide a very simple set of commands to format text. Nothing too fancy, but enough stuff like headers, lists, links, italics, bold,... to make our **documentation** easy to read. \n",
    "\n",
    "Read the markdown cheat cheatsheet available [here](https://github.com/adam-p/markdown-here/wiki/Markdown-Cheatsheet) for a list of commands. (Look at the source code for this cell to see the syntax for a link!) \n",
    "\n",
    "Let's try some markdown. For each item below, insert a markdown cell and try it out. Remember to hit shift-enter to run the cell and see the result.\n",
    "___"
   ]
  },
  {
   "cell_type": "markdown",
   "metadata": {},
   "source": [
    "In the cell below, make three layers of headings. ```# Heading 1``` will generate the first-level heading. How do we get the second-level and third-level headings? \n",
    "\n",
    "---"
   ]
  },
  {
   "cell_type": "code",
   "execution_count": null,
   "metadata": {},
   "outputs": [],
   "source": []
  },
  {
   "cell_type": "markdown",
   "metadata": {},
   "source": [
    "In the cell below, try some ```**bold**``` and ```*italics*```. I like ```~~strikethrough~~``` because I make a lot of mistakes. What happens in the cell as you type?\n",
    "___"
   ]
  },
  {
   "cell_type": "code",
   "execution_count": null,
   "metadata": {},
   "outputs": [],
   "source": []
  },
  {
   "cell_type": "markdown",
   "metadata": {},
   "source": [
    "## Lists\n",
    "An unordered list uses asterisks. Try \n",
    "```\n",
    "* Bacon\n",
    "* Lettuce \n",
    "* Tomato\n",
    "```\n",
    "and run the cell (shift-enter).\n",
    "___"
   ]
  },
  {
   "cell_type": "code",
   "execution_count": null,
   "metadata": {},
   "outputs": [],
   "source": []
  },
  {
   "cell_type": "markdown",
   "metadata": {},
   "source": [
    "Then try an ordered list\n",
    "```\n",
    "1. Wisconsin\n",
    "2. Minnesota\n",
    "```\n",
    "and run the cell (shift-enter). "
   ]
  },
  {
   "cell_type": "code",
   "execution_count": null,
   "metadata": {},
   "outputs": [],
   "source": []
  },
  {
   "cell_type": "markdown",
   "metadata": {},
   "source": [
    "Now go back and add sub-items to the Wisconsin entry. It should look like\n",
    "```\n",
    "1. Wisconsin\n",
    "  1. Madison\n",
    "  2. Milwaukee\n",
    "2. Minnesota\n",
    "```\n",
    "\n",
    "What happens when you run the cell?"
   ]
  },
  {
   "cell_type": "code",
   "execution_count": null,
   "metadata": {},
   "outputs": [],
   "source": []
  }
 ],
 "metadata": {
  "kernelspec": {
   "display_name": "Python 3",
   "language": "python",
   "name": "python3"
  },
  "language_info": {
   "codemirror_mode": {
    "name": "ipython",
    "version": 3
   },
   "file_extension": ".py",
   "mimetype": "text/x-python",
   "name": "python",
   "nbconvert_exporter": "python",
   "pygments_lexer": "ipython3",
   "version": "3.6.5"
  }
 },
 "nbformat": 4,
 "nbformat_minor": 2
}
